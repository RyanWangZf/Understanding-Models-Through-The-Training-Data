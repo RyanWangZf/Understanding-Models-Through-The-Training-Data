{
 "cells": [
  {
   "cell_type": "code",
   "execution_count": 1,
   "metadata": {},
   "outputs": [
    {
     "name": "stdout",
     "output_type": "stream",
     "text": [
      "/home/radaimi/Documents/influence-release-master\n"
     ]
    }
   ],
   "source": [
    "%cd .."
   ]
  },
  {
   "cell_type": "code",
   "execution_count": 39,
   "metadata": {},
   "outputs": [
    {
     "name": "stdout",
     "output_type": "stream",
     "text": [
      "The autoreload extension is already loaded. To reload it, use:\n",
      "  %reload_ext autoreload\n"
     ]
    }
   ],
   "source": [
    "from __future__ import division\n",
    "from __future__ import print_function\n",
    "from __future__ import absolute_import\n",
    "from __future__ import unicode_literals  \n",
    "\n",
    "import math\n",
    "import copy\n",
    "import numpy as np\n",
    "import pandas as pd\n",
    "import seaborn as sns\n",
    "import matplotlib.pyplot as plt\n",
    "import sklearn.linear_model as linear_model\n",
    "import sklearn.preprocessing as preprocessing\n",
    "import scipy\n",
    "import scipy.linalg as slin\n",
    "import scipy.sparse.linalg as sparselin\n",
    "import scipy.sparse as sparse\n",
    "from influence.logisticRegressionWithLBFGS import LogisticRegressionWithLBFGS\n",
    "\n",
    "sns.set(color_codes=True)\n",
    "import sys\n",
    "sys.path.append(\"/home/radaimi/Documents/influence-release-master\")\n",
    "\n",
    "from scripts.load_mnist import load_mnist\n",
    "from influence.image_utils import plot_flat_colorimage, plot_flat_colorgrad\n",
    "\n",
    "import tensorflow as tf\n",
    "from tensorflow.contrib.learn.python.learn.datasets import base\n",
    "\n",
    "from sklearn.metrics.pairwise import rbf_kernel\n",
    "from sklearn.metrics.pairwise import sigmoid_kernel\n",
    "\n",
    "from influence.inceptionModel import BinaryInceptionModel\n",
    "from influence.smooth_hinge import SmoothHinge\n",
    "from influence.binaryLogisticRegressionWithLBFGS import BinaryLogisticRegressionWithLBFGS\n",
    "import influence.dataset as dataset\n",
    "from influence.dataset import DataSet\n",
    "from influence.dataset_poisoning import generate_inception_features\n",
    "from influence.all_CNN_c import All_CNN_C\n",
    "\n",
    "%matplotlib inline\n",
    "%load_ext autoreload\n",
    "%autoreload 2\n"
   ]
  },
  {
   "cell_type": "code",
   "execution_count": 40,
   "metadata": {
    "scrolled": false
   },
   "outputs": [
    {
     "name": "stdout",
     "output_type": "stream",
     "text": [
      "Extracting /home/radaimi/Document/influence-release-master/data/train-images-idx3-ubyte.gz\n",
      "Extracting /home/radaimi/Document/influence-release-master/data/train-labels-idx1-ubyte.gz\n",
      "Extracting /home/radaimi/Document/influence-release-master/data/t10k-images-idx3-ubyte.gz\n",
      "Extracting /home/radaimi/Document/influence-release-master/data/t10k-labels-idx1-ubyte.gz\n"
     ]
    }
   ],
   "source": [
    "dataset_name = 'MNIST_1_7'\n",
    "sns.set_style('white')\n",
    "data_sets = load_mnist(\"/home/radaimi/Document/influence-release-master/data\")"
   ]
  },
  {
   "cell_type": "code",
   "execution_count": 41,
   "metadata": {},
   "outputs": [],
   "source": [
    "## 1 and 7 \n",
    "pos_class = 1\n",
    "neg_class = 7\n",
    "\n",
    "X_train = data_sets.train.x\n",
    "Y_train = data_sets.train.labels\n",
    "X_test = data_sets.test.x\n",
    "Y_test = data_sets.test.labels\n",
    "\n",
    "X_train, Y_train = dataset.filter_dataset(X_train, Y_train, pos_class, neg_class)\n",
    "X_test, Y_test = dataset.filter_dataset(X_test, Y_test, pos_class, neg_class)\n",
    "\n",
    "lr_train = DataSet(X_train, np.array((Y_train + 1) / 2, dtype=int))\n",
    "lr_validation = None\n",
    "lr_test = DataSet(X_test, np.array((Y_test + 1) / 2, dtype=int))\n",
    "data_sets = base.Datasets(train=lr_train, validation=lr_validation, test=lr_test)\n",
    "\n",
    "test_idx = 20"
   ]
  },
  {
   "cell_type": "code",
   "execution_count": 42,
   "metadata": {},
   "outputs": [
    {
     "name": "stdout",
     "output_type": "stream",
     "text": [
      "784\n",
      "Total number of parameters: 784\n",
      "Using normal model\n",
      "SVM training took 333 iter.\n",
      "After SVM training: \n",
      "Train loss (w reg) on all data: 0.4960471\n",
      "Train loss (w/o reg) on all data: 0.48660687\n",
      "Test loss (w/o reg) on all data: 0.47964886\n",
      "Train acc on all data:  0.5178241129981503\n",
      "Test acc on all data:   0.5233472029588534\n",
      "Norm of the mean of gradients: 0.08435256\n",
      "Norm of the params: 1.3740622\n",
      "Total number of parameters: 784\n",
      "Norm of test gradient: 0.0\n",
      "Function value: 0.0\n",
      "Split function value: 0.0, -0.0\n",
      "Predicted loss diff on train_idx 5: 0.0\n",
      "Optimization terminated successfully.\n",
      "         Current function value: 0.000000\n",
      "         Iterations: 1\n",
      "         Function evaluations: 2\n",
      "         Gradient evaluations: 2\n",
      "         Hessian evaluations: 0\n",
      "Saved inverse HVP to output/MNIST_hinge_t-0.001-cg-normal_loss-test-[20].npz\n",
      "Inverse HVP took 0.6021881103515625 sec\n",
      "Multiplying by 11894 train examples took 8.780205965042114 sec\n"
     ]
    }
   ],
   "source": [
    "num_classes = 2\n",
    "\n",
    "\n",
    "def get_Y_pred_correct_cnn(model):\n",
    "    Y_test = model.data_sets.test.labels\n",
    "    if np.min(Y_test) < -0.5:\n",
    "        Y_test = (np.copy(Y_test) + 1) / 2        \n",
    "    Y_pred = model.sess.run(model.preds, feed_dict=model.all_test_feed_dict)\n",
    "    Y_pred_correct = np.zeros([len(Y_test)])\n",
    "    for idx, label in enumerate(Y_test):\n",
    "        Y_pred_correct[idx] = Y_pred[idx, int(label)]\n",
    "    return Y_pred_correct\n",
    "\n",
    "gamma = 0.05\n",
    "weight_decay = 0.0001\n",
    "\n",
    "tf.reset_default_graph()\n",
    "\n",
    "input_dim = data_sets.train.x.shape[1]\n",
    "print(input_dim)\n",
    "\n",
    "input_side = 28\n",
    "input_channels = 1\n",
    "input_dim = input_side * input_side * input_channels\n",
    "weight_decay = 0.01\n",
    "use_bias = False\n",
    "batch_size = 100\n",
    "initial_learning_rate = 0.001 \n",
    "keep_probs = None\n",
    "decay_epochs = [1000, 10000]\n",
    "max_lbfgs_iter = 1000\n",
    "\n",
    "temps = [0, 0.001, 0.1]\n",
    "num_temps = len(temps)\n",
    "\n",
    "num_params = 784\n",
    "\n",
    "\n",
    "# Get weights from hinge\n",
    "# Train with hinge\n",
    "hinge_model = SmoothHinge(\n",
    "    temp=0,\n",
    "    use_bias=use_bias,\n",
    "    input_dim=input_dim,\n",
    "    weight_decay=weight_decay,\n",
    "    num_classes=num_classes,\n",
    "    batch_size=batch_size,\n",
    "    data_sets=data_sets,\n",
    "    initial_learning_rate=initial_learning_rate,\n",
    "    keep_probs=keep_probs,\n",
    "    decay_epochs=decay_epochs,\n",
    "    mini_batch=False,\n",
    "    train_dir='output',\n",
    "    log_dir='log',\n",
    "    model_name='MNIST_hinge_t-0')\n",
    "    \n",
    "hinge_model.train()\n",
    "hinge_W = hinge_model.sess.run(hinge_model.params)[0]\n",
    "\n",
    "# Then load weights into smoothed version\n",
    "tf.reset_default_graph()\n",
    "hinge_model = SmoothHinge(\n",
    "    temp=0.001,\n",
    "    use_bias=use_bias,\n",
    "    input_dim=input_dim,\n",
    "    weight_decay=weight_decay,\n",
    "    num_classes=num_classes,\n",
    "    batch_size=batch_size,\n",
    "    data_sets=data_sets,\n",
    "    initial_learning_rate=initial_learning_rate,\n",
    "    keep_probs=keep_probs,\n",
    "    decay_epochs=decay_epochs,\n",
    "    mini_batch=False,\n",
    "    train_dir='output',\n",
    "    log_dir='log',\n",
    "    model_name='MNIST_hinge_t-0.001')\n",
    "\n",
    "params_feed_dict = {}\n",
    "params_feed_dict[hinge_model.W_placeholder] = hinge_W\n",
    "hinge_model.sess.run(hinge_model.set_params_op, feed_dict=params_feed_dict)\n",
    "\n",
    "hinge_predicted_loss_diffs = hinge_model.get_influence_on_test_loss(\n",
    "    [test_idx], \n",
    "    np.arange(len(hinge_model.data_sets.train.labels)),\n",
    "    force_refresh=True)"
   ]
  },
  {
   "cell_type": "code",
   "execution_count": 43,
   "metadata": {
    "scrolled": false
   },
   "outputs": [
    {
     "name": "stdout",
     "output_type": "stream",
     "text": [
      "Total number of parameters: 784\n",
      "Using normal model\n"
     ]
    },
    {
     "name": "stderr",
     "output_type": "stream",
     "text": [
      "/home/radaimi/Documents/influence-release-master/influence_env/lib/python3.6/site-packages/tensorflow/python/ops/gradients_impl.py:110: UserWarning: Converting sparse IndexedSlices to a dense Tensor of unknown shape. This may consume a large amount of memory.\n",
      "  \"Converting sparse IndexedSlices to a dense Tensor of unknown shape. \"\n"
     ]
    },
    {
     "name": "stdout",
     "output_type": "stream",
     "text": [
      "LBFGS training took [25] iter.\n",
      "After training with LBFGS: \n",
      "Train loss (w reg) on all data: 0.060587756\n",
      "Train loss (w/o reg) on all data: 0.03504161\n",
      "Test loss (w/o reg) on all data: 0.039349467\n",
      "Train acc on all data:  0.9926013115856734\n",
      "Test acc on all data:   0.9912159038372631\n",
      "Norm of the mean of gradients: 1.7268694e-06\n",
      "Norm of the params: 2.2603605\n",
      "11894\n",
      "Norm of test gradient: 0.33864272\n",
      "Function value: -1.4928525686264038\n",
      "Split function value: 1.4928580522537231, -2.9857106\n",
      "Predicted loss diff on train_idx 5: -2.4348265930386338e-06\n",
      "Function value: -1.5424609184265137\n",
      "Split function value: 1.4435408115386963, -2.9860017\n",
      "Predicted loss diff on train_idx 5: -3.102317399811861e-06\n",
      "Function value: -1.5548580884933472\n",
      "Split function value: 1.5520581007003784, -3.1069162\n",
      "Predicted loss diff on train_idx 5: -9.888750053873298e-07\n",
      "Function value: -1.555019497871399\n",
      "Split function value: 1.554571270942688, -3.1095908\n",
      "Predicted loss diff on train_idx 5: -1.4268511748722828e-06\n",
      "Function value: -1.555022954940796\n",
      "Split function value: 1.5548803806304932, -3.1099033\n",
      "Predicted loss diff on train_idx 5: -1.3896754775424955e-06\n",
      "Function value: -1.555023193359375\n",
      "Split function value: 1.5550236701965332, -3.1100469\n",
      "Predicted loss diff on train_idx 5: -1.389423971900183e-06\n",
      "Function value: -1.5550233125686646\n",
      "Split function value: 1.5550230741500854, -3.1100464\n",
      "Predicted loss diff on train_idx 5: -1.3894552926526503e-06\n",
      "Warning: Desired error not necessarily achieved due to precision loss.\n",
      "         Current function value: -1.555023\n",
      "         Iterations: 7\n",
      "         Function evaluations: 79\n",
      "         Gradient evaluations: 74\n",
      "         Hessian evaluations: 32\n",
      "Saved inverse HVP to output/mnist-17_logreg-cg-normal_loss-test-[20].npz\n",
      "Inverse HVP took 10.432259798049927 sec\n",
      "Multiplying by 11894 train examples took 7.068265199661255 sec\n",
      "11894 11894\n"
     ]
    }
   ],
   "source": [
    "num_classes = 2\n",
    "input_side = 28\n",
    "input_channels = 1\n",
    "input_dim = input_side * input_side * input_channels\n",
    "weight_decay = 0.01\n",
    "batch_size = 100\n",
    "initial_learning_rate = 0.001 \n",
    "keep_probs = None\n",
    "decay_epochs = [1000, 10000]\n",
    "max_lbfgs_iter = 1000\n",
    "\n",
    "num_params = 784\n",
    "\n",
    "tf.reset_default_graph()\n",
    "\n",
    "tf_model = BinaryLogisticRegressionWithLBFGS(\n",
    "    input_dim=input_dim,\n",
    "    weight_decay=weight_decay,\n",
    "    max_lbfgs_iter=max_lbfgs_iter,\n",
    "    num_classes=num_classes, \n",
    "    batch_size=batch_size,\n",
    "    data_sets=data_sets,\n",
    "    initial_learning_rate=initial_learning_rate,\n",
    "    keep_probs=keep_probs,\n",
    "    decay_epochs=decay_epochs,\n",
    "    mini_batch=False,\n",
    "    train_dir='output',\n",
    "    log_dir='log',\n",
    "    model_name='mnist-17_logreg')\n",
    "\n",
    "tf_model.train()\n",
    "\n",
    "num_train = len(tf_model.data_sets.train.labels)\n",
    "print(num_train)\n",
    "influences = tf_model.get_influence_on_test_loss(\n",
    "    [test_idx], \n",
    "    np.arange(len(tf_model.data_sets.train.labels)),\n",
    "    force_refresh=True)\n",
    "\n",
    "x_test = tf_model.data_sets.test.x[test_idx, :]\n",
    "y_test = tf_model.data_sets.test.labels[test_idx]\n",
    "\n",
    "distances = dataset.find_distances(x_test, X_train)\n",
    "flipped_idx = tf_model.data_sets.train.labels != y_test\n",
    "print(num_train, len(flipped_idx))\n",
    "hinge_margins_test = hinge_model.sess.run(hinge_model.margin, feed_dict=hinge_model.all_test_feed_dict)\n",
    "hinge_margins_train = hinge_model.sess.run(hinge_model.margin, feed_dict=hinge_model.all_train_feed_dict)\n",
    "logreg_Y_pred_correct = get_Y_pred_correct_cnn(tf_model)\n",
    "\n",
    "\n",
    "np.savez(\n",
    "    'output/mnist_logreg_lbfgs', \n",
    "    test_idx=test_idx,\n",
    "    distances=distances,\n",
    "    flipped_idx=flipped_idx,\n",
    "    hinge_margins_test=hinge_margins_test,\n",
    "    hinge_margins_train=hinge_margins_train,\n",
    "    logreg_Y_pred_correct=logreg_Y_pred_correct,\n",
    "    hinge_predicted_loss_diffs=hinge_predicted_loss_diffs,\n",
    "    logreg_predicted_loss_diffs=influences\n",
    ")"
   ]
  },
  {
   "cell_type": "code",
   "execution_count": 44,
   "metadata": {},
   "outputs": [],
   "source": [
    "f = np.load('output/mnist_logreg_lbfgs.npz')\n",
    "    \n",
    "test_idx = f['test_idx']\n",
    "distances = f['distances']\n",
    "flipped_idx = f['flipped_idx']\n",
    "hinge_margins_test = f['hinge_margins_test']\n",
    "hinge_margins_train = f['hinge_margins_train']\n",
    "logreg_Y_pred_correct = f['logreg_Y_pred_correct']\n",
    "hinge_predicted_loss_diffs = f['hinge_predicted_loss_diffs']\n",
    "logreg_predicted_loss_diffs = f['logreg_predicted_loss_diffs']"
   ]
  },
  {
   "cell_type": "code",
   "execution_count": 45,
   "metadata": {},
   "outputs": [
    {
     "data": {
      "image/png": "[encoded data removed]",
      "text/plain": [
       "<Figure size 432x216 with 2 Axes>"
      ]
     },
     "metadata": {},
     "output_type": "display_data"
    }
   ],
   "source": [
    "sns.set_style('white')\n",
    "fontsize=14\n",
    "\n",
    "fig, axs = plt.subplots(1, 2, sharex=True, sharey=False, figsize=(6, 3))\n",
    "\n",
    "num_train = len(flipped_idx)\n",
    "color_vec = np.array(['g'] * num_train)\n",
    "color_vec[flipped_idx] = 'r'\n",
    "color_vec = list(color_vec)\n",
    "\n",
    "axs[0].scatter(distances, hinge_predicted_loss_diffs, color=color_vec)\n",
    "axs[0].set_ylim(-0.03, 0.03)\n",
    "axs[0].set_yticks((-0.03, 0, 0.03))\n",
    "axs[0].ticklabel_format(style='sci', scilimits=(0,0), axis='y')\n",
    "axs[0].set_xlabel('Euclidean distance', fontsize=fontsize)\n",
    "axs[0].set_ylabel('$-\\mathcal{I}_\\mathrm{up, loss} \\ /\\ n$', fontsize=fontsize)\n",
    "\n",
    "axs[1].scatter(distances, logreg_predicted_loss_diffs, color=color_vec)\n",
    "axs[1].set_ylim(-0.0005, 0.0005)\n",
    "axs[1].set_yticks((-0.0005, 0, 0.0005))\n",
    "axs[1].ticklabel_format(style='sci', scilimits=(0,0), axis='y')\n",
    "axs[1].set_xlabel('Euclidean distance', fontsize=fontsize)\n",
    "\n",
    "plt.tight_layout()\n",
    "plt.savefig('fig-mnist-logreg-dist.png', dpi=600, bbox_inches='tight')"
   ]
  },
  {
   "cell_type": "code",
   "execution_count": 52,
   "metadata": {},
   "outputs": [],
   "source": [
    "def plot_flat_colorimage(X, y, pos_class=1, neg_class=-1, side=32):\n",
    "    X = np.reshape(X, (side, side))\n",
    "    if y == 1:\n",
    "        label = pos_class\n",
    "    else:\n",
    "        label = neg_class\n",
    "    with sns.axes_style(\"white\"):\n",
    "        f, ax = plt.subplots(figsize=(6,6))\n",
    "        ax.set_title('Label is %s' % label)        \n",
    "        ax.imshow(X, interpolation='none')  \n",
    "        plt.show()\n",
    "        f.savefig('fig-mnist-test-image.png', dpi=600, bbox_inches='tight')\n"
   ]
  },
  {
   "cell_type": "code",
   "execution_count": 54,
   "metadata": {},
   "outputs": [
    {
     "name": "stdout",
     "output_type": "stream",
     "text": [
      "Test image:\n",
      "-1 -0.0 0.9612236022949219\n"
     ]
    },
    {
     "data": {
      "image/png": "[encoded data removed]",
      "text/plain": [
       "<Figure size 432x432 with 1 Axes>"
      ]
     },
     "metadata": {},
     "output_type": "display_data"
    },
    {
     "name": "stdout",
     "output_type": "stream",
     "text": [
      "Top from SmoothHinge:\n",
      "3967 1 8.7492075 1.8423716 0.0\n",
      "3968 -1 10.762758 -0.0 0.0\n",
      "3969 1 8.806748 2.4303021 0.0\n",
      "3960 -1 8.215269 -0.0 0.0\n",
      "11893 1 8.607339 1.2404392 0.0\n"
     ]
    },
    {
     "data": {
      "image/png": "[encoded data removed]",
      "text/plain": [
       "<Figure size 1080x216 with 5 Axes>"
      ]
     },
     "metadata": {},
     "output_type": "display_data"
    },
    {
     "name": "stdout",
     "output_type": "stream",
     "text": [
      "Top from LogReg:\n",
      "8917 -1 6.2627254 0.0011000500940887671\n",
      "10337 -1 6.9111056 0.0011054455622597184\n",
      "2989 -1 7.298802 0.0011307256290326102\n",
      "695 -1 6.5737295 0.0011682235354713297\n",
      "8581 -1 6.1682534 0.0015989489288355736\n"
     ]
    },
    {
     "data": {
      "image/png": "[encoded data removed]",
      "text/plain": [
       "<Figure size 1080x216 with 5 Axes>"
      ]
     },
     "metadata": {},
     "output_type": "display_data"
    },
    {
     "name": "stdout",
     "output_type": "stream",
     "text": [
      "Helpful Train (One):\n",
      "36 1262 1 9.882146 0.0003701834713127787\n"
     ]
    },
    {
     "data": {
      "image/png": "[encoded data removed]",
      "text/plain": [
       "<Figure size 432x288 with 1 Axes>"
      ]
     },
     "metadata": {},
     "output_type": "display_data"
    }
   ],
   "source": [
    "print('Test image:')\n",
    "print(Y_test[test_idx], hinge_margins_test[test_idx], logreg_Y_pred_correct[test_idx])\n",
    "plot_flat_colorimage(X_test[test_idx, :], 0, side=28)\n",
    "    \n",
    "print('Top from SmoothHinge:')\n",
    "fig, axs = plt.subplots(1, 5, figsize=(15,3))\n",
    "for counter, train_idx in enumerate(np.argsort(hinge_predicted_loss_diffs)[-5:]):\n",
    "    print(train_idx, Y_train[train_idx], distances[train_idx], hinge_margins_train[train_idx], hinge_predicted_loss_diffs[train_idx])\n",
    "    x_train = X_train[train_idx, :]\n",
    "    axs[counter].imshow(np.reshape(x_train, (28,28)), interpolation='none')  \n",
    "    axs[counter].axis('off')\n",
    "plt.tight_layout()\n",
    "plt.show()\n",
    "\n",
    "print('Top from LogReg:')\n",
    "fig, axs = plt.subplots(1, 5, figsize=(15,3))\n",
    "for counter, train_idx in enumerate(np.argsort(logreg_predicted_loss_diffs)[-5:]):\n",
    "    print(train_idx, Y_train[train_idx], distances[train_idx], logreg_predicted_loss_diffs[train_idx])    \n",
    "    x_train = X_train[train_idx, :]\n",
    "    axs[counter].imshow(np.reshape(x_train, (28,28)), interpolation='none')  \n",
    "    axs[counter].axis('off')\n",
    "plt.tight_layout()\n",
    "plt.show()\n",
    "fig.savefig('fig-mnist-logreg.png', dpi=600, bbox_inches='tight')\n",
    "\n",
    "print('Helpful Train (One):')\n",
    "counter = 0\n",
    "for i, train_idx in enumerate(np.argsort(logreg_predicted_loss_diffs)[:-50:-1]):\n",
    "    if Y_train[train_idx] == 1.0:\n",
    "        print(i, train_idx, Y_train[train_idx], distances[train_idx], logreg_predicted_loss_diffs[train_idx])    \n",
    "        x_train = X_train[train_idx, :]\n",
    "        plt.imshow(np.reshape(x_train,(28,28)), interpolation='none')  \n",
    "        plt.axis('off')\n",
    "        counter -= 1\n",
    "    if counter == -1:\n",
    "        break\n",
    "plt.tight_layout()\n",
    "plt.savefig('fig-mnist-helpful-train.png', dpi=600, bbox_inches='tight')\n",
    "plt.show()"
   ]
  }
 ],
 "metadata": {
  "kernelspec": {
   "display_name": "Python 3",
   "language": "python",
   "name": "python3"
  },
  "language_info": {
   "codemirror_mode": {
    "name": "ipython",
    "version": 3
   },
   "file_extension": ".py",
   "mimetype": "text/x-python",
   "name": "python",
   "nbconvert_exporter": "python",
   "pygments_lexer": "ipython3",
   "version": "3.6.7"
  }
 },
 "nbformat": 4,
 "nbformat_minor": 2
}
